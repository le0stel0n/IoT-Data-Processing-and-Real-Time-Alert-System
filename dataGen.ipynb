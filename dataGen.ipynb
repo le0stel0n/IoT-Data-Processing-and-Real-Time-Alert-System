{
 "cells": [
  {
   "cell_type": "markdown",
   "metadata": {},
   "source": []
  },
  {
   "cell_type": "markdown",
   "metadata": {},
   "source": [
    "bin/kafka-server-start.sh config/server.properties\n"
   ]
  },
  {
   "cell_type": "markdown",
   "metadata": {},
   "source": [
    "bin/zookeeper-server-start.sh config/zookeeper.properties"
   ]
  },
  {
   "cell_type": "code",
   "execution_count": null,
   "metadata": {
    "vscode": {
     "languageId": "plaintext"
    }
   },
   "outputs": [],
   "source": []
  },
  {
   "cell_type": "markdown",
   "metadata": {
    "vscode": {
     "languageId": "plaintext"
    }
   },
   "source": [
    "#q5wLN9OnCHYmdBM-xPV-55K-NfYL_GXvjxPlLfdmrq8frCgTB2wtT8Oz1W_dC8WOdUYi7_f6XH9SGlvcBqsr0w=="
   ]
  },
  {
   "cell_type": "markdown",
   "metadata": {},
   "source": [
    "docker run -d --name fastapi-iot-app -p 8000:8000 \\\n",
    "  -v $(pwd)/transformed_iot_data:/app/data/transformed_iot_data \\\n",
    "  -v $(pwd)/average_temperature_by_region:/app/data/average_temperature_by_region \\\n",
    "  -v $(pwd)/maximum_speed_by_sensor_id:/app/data/maximum_speed_by_sensor_id \\\n",
    "  fastapi-iot-app\n",
    "\n",
    "docker run command to update the csv files. "
   ]
  },
  {
   "cell_type": "markdown",
   "metadata": {},
   "source": [
    "Start RabbitMQ:\n",
    "\n",
    "bash\n",
    "Copy code\n",
    "docker run -d --name rabbitmq-server -p 5672:5672 -p 15672:15672 rabbitmq:3-management\n",
    "Build Flask App:\n",
    "\n",
    "bash\n",
    "Copy code\n",
    "docker build -t flask-rabbitmq-app .\n",
    "Create Docker Network:\n",
    "\n",
    "bash\n",
    "Copy code\n",
    "docker network create iot-network\n",
    "docker network connect iot-network rabbitmq-server\n",
    "Run Flask App:\n",
    "\n",
    "bash\n",
    "Copy code\n",
    "docker run -d --name flask-iot-app --network iot-network -p 8000:8000 flask-rabbitmq-app\n",
    "Test RabbitMQ Alerts:\n",
    "\n",
    "bash\n",
    "Copy code\n",
    "curl http://localhost:8000/check-temperature\n"
   ]
  },
  {
   "cell_type": "code",
   "execution_count": null,
   "metadata": {
    "vscode": {
     "languageId": "plaintext"
    }
   },
   "outputs": [],
   "source": []
  }
 ],
 "metadata": {
  "language_info": {
   "name": "python"
  }
 },
 "nbformat": 4,
 "nbformat_minor": 2
}
